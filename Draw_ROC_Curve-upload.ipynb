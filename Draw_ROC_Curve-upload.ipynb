{
 "cells": [
  {
   "cell_type": "code",
   "execution_count": null,
   "metadata": {},
   "outputs": [],
   "source": [
    "import numpy as np\n",
    "import time\n",
    "import pandas as pd\n",
    "import glob\n",
    "from PIL import Image\n",
    "from matplotlib import pyplot as plt\n",
    "import tensorflow as tf\n",
    "\n",
    "from sklearn.metrics import roc_curve\n",
    "from sklearn.metrics import roc_auc_score\n"
   ]
  },
  {
   "cell_type": "code",
   "execution_count": null,
   "metadata": {},
   "outputs": [],
   "source": [
    "tpr_list = []\n",
    "fpr_list = []\n",
    "name_list = []\n",
    "auc_list = []"
   ]
  },
  {
   "cell_type": "code",
   "execution_count": null,
   "metadata": {},
   "outputs": [],
   "source": [
    "def load_one_image(input_path):\n",
    "    img = Image.open(input_path)\n",
    "    img = img.resize([size_w,size_h])\n",
    "    rslt = np.asarray(img)/255\n",
    "    \n",
    "    return rslt\n",
    "\n",
    "def load_many_image(input_path):\n",
    "    rslt = np.zeros([len(input_path),size_h,size_w,3])\n",
    "    for i,img_path in enumerate(input_path):\n",
    "        rslt[i] = load_one_image(img_path)\n",
    "        \n",
    "    return rslt"
   ]
  },
  {
   "cell_type": "code",
   "execution_count": null,
   "metadata": {
    "scrolled": false
   },
   "outputs": [],
   "source": [
    "for data_type in [\"ap\",\"lateral\"]:\n",
    "    if data_type==\"ap\":\n",
    "        seed = '308'  # your random seed here\n",
    "    if data_type==\"lateral\":\n",
    "        seed = '662'  # your random seed here\n",
    "    for rnd_seed in ['1','2','3','4','5']:\n",
    "        data_path = \"./DATA/\"\n",
    "\n",
    "\n",
    "\n",
    "        run_name = data_type+\"_--\"+seed+'_'+rnd_seed\n",
    "\n",
    "        size_w = 500\n",
    "        size_h = 600\n",
    "        tr_ratio = 0.6\n",
    "        te_ratio = 0.2\n",
    "\n",
    "        learning_rate = 3e-5\n",
    "        epoch = 500\n",
    "\n",
    "        print(run_name)\n",
    "\n",
    "\n",
    "        # normal =0, abn = 1\n",
    "        all_path_0 = glob.glob(data_path+\"normal/\"+data_type+\"/*.jpg\")\n",
    "        all_path_1 = glob.glob(data_path+\"abnormal/\"+data_type+\"/*.jpg\")\n",
    "        all_id_0 = [s.split(\"\\\\\")[-1].split(\"_\")[0] for s in all_path_0]\n",
    "        all_id_1 = [s.split(\"\\\\\")[-1].split(\"_\")[0] for s in all_path_1]\n",
    "        all_unique_id_0 = np.unique(all_id_0)\n",
    "        all_unique_id_1 = np.unique(all_id_1)\n",
    "        print(len(all_id_0),\"   \", len(all_unique_id_0))\n",
    "        print(len(all_id_1),\"   \", len(all_unique_id_1))\n",
    "\n",
    "\n",
    "        print(all_path_0[:3])\n",
    "        print(all_path_1[:3])\n",
    "\n",
    "        np.random.seed(int(rnd_seed))\n",
    "        np.random.shuffle(all_path_0)\n",
    "        np.random.shuffle(all_path_1)\n",
    "\n",
    "        # normal =0, abn = 1\n",
    "        path_te_0 = all_path_0[int(len(all_path_0)*(1-te_ratio)):]\n",
    "        path_te_1 = all_path_1[int(len(all_path_1)*(1-te_ratio)):]\n",
    "\n",
    "        path_te = np.concatenate([path_te_0,path_te_1])\n",
    "\n",
    "        target_label_te = np.array( [s.split(\"/\")[2] for s in path_te] )\n",
    "\n",
    "        target_te = np.asarray(pd.get_dummies(target_label_te))\n",
    "        # abnormal = [1,0]   normal = [0,1]\n",
    "        print( np.unique(target_label_te,return_counts=True) )\n",
    "\n",
    "\n",
    "        input_te = load_many_image(path_te)\n",
    "        print(\"reading finished\")\n",
    "\n",
    "        model = tf.keras.models.load_model(run_name+\"_best.hdf5\")\n",
    "        print(\"loading model finished\")\n",
    "\n",
    "        pred_te = model.predict(input_te, batch_size=4)\n",
    "        auc_te = roc_auc_score(target_te[:,0],pred_te[:,0])\n",
    "        fpr, tpr, _ = roc_curve(target_te[:,0], pred_te[:,0])\n",
    "\n",
    "        fpr_list.append(fpr)\n",
    "        tpr_list.append(tpr)\n",
    "        name_list.append(run_name)\n",
    "        auc_list.append(auc_te)\n",
    "\n",
    "        print(run_name)\n",
    "        print(auc_te)"
   ]
  },
  {
   "cell_type": "code",
   "execution_count": null,
   "metadata": {
    "scrolled": true
   },
   "outputs": [],
   "source": [
    "print(pd.DataFrame({'name':name_list,'auc':auc_list}))"
   ]
  },
  {
   "cell_type": "code",
   "execution_count": null,
   "metadata": {},
   "outputs": [],
   "source": [
    "import os\n",
    "os.makedirs(\"./ROC_output/\",exist_ok=True)"
   ]
  },
  {
   "cell_type": "code",
   "execution_count": null,
   "metadata": {
    "scrolled": false
   },
   "outputs": [],
   "source": [
    "plt.plot(tpr, tpr)\n",
    "plt.plot(fpr_list[3], tpr_list[3], marker='.', label=\"AP_4\")\n",
    "plt.plot(fpr_list[5], tpr_list[5], marker='.', label=\"Lateral_1\")\n",
    "# axis labels\n",
    "plt.xlabel('False Positive Rate')\n",
    "plt.ylabel('True Positive Rate')\n",
    "# show the legend\n",
    "plt.legend()\n",
    "plt.title(\"ROC curve\")\n",
    "# show the plot\n",
    "plt.savefig(\"./ROC_output/ROC_best_2.png\",dpi=300)\n",
    "plt.show()\n",
    "img = Image.open(\"./ROC_output/ROC_best_2.png\")\n",
    "img.save(\"./ROC_output/ROC_best_2.tif\",dpi=(300,300))"
   ]
  },
  {
   "cell_type": "code",
   "execution_count": null,
   "metadata": {},
   "outputs": [],
   "source": [
    "plt.plot(tpr, tpr)\n",
    "plt.plot(fpr_list[0], tpr_list[0], marker='.', label=\"AP_1\")\n",
    "plt.plot(fpr_list[1], tpr_list[1], marker='.', label=\"AP_2\")\n",
    "plt.plot(fpr_list[2], tpr_list[2], marker='.', label=\"AP_3\")\n",
    "plt.plot(fpr_list[3], tpr_list[3], marker='.', label=\"AP_4\")\n",
    "plt.plot(fpr_list[4], tpr_list[4], marker='.', label=\"AP_5\")\n",
    "# axis labels\n",
    "plt.xlabel('False Positive Rate')\n",
    "plt.ylabel('True Positive Rate')\n",
    "# show the legend\n",
    "plt.legend()\n",
    "plt.title(\"ROC curve - AP\")\n",
    "# show the plot\n",
    "plt.savefig(\"./ROC_output/ROC_AP.png\",dpi=300)\n",
    "plt.show()\n",
    "img = Image.open(\"./ROC_output/ROC_AP.png\")\n",
    "img.save(\"./ROC_output/ROC_AP.tif\",dpi=(300,300))"
   ]
  },
  {
   "cell_type": "code",
   "execution_count": null,
   "metadata": {},
   "outputs": [],
   "source": [
    "plt.plot(tpr, tpr)\n",
    "plt.plot(fpr_list[5], tpr_list[5], marker='.', label=\"Lateral_1\")\n",
    "plt.plot(fpr_list[6], tpr_list[6], marker='.', label=\"Lateral_2\")\n",
    "plt.plot(fpr_list[7], tpr_list[7], marker='.', label=\"Lateral_3\")\n",
    "plt.plot(fpr_list[8], tpr_list[8], marker='.', label=\"Lateral_4\")\n",
    "plt.plot(fpr_list[9], tpr_list[9], marker='.', label=\"Lateral_5\")\n",
    "# axis labels\n",
    "plt.xlabel('False Positive Rate')\n",
    "plt.ylabel('True Positive Rate')\n",
    "# show the legend\n",
    "plt.legend()\n",
    "plt.title(\"ROC curve - Lateral\")\n",
    "# show the plot\n",
    "plt.savefig(\"./ROC_output/ROC_Lateral.png\",dpi=300)\n",
    "plt.show()\n",
    "img = Image.open(\"./ROC_output/ROC_Lateral.png\")\n",
    "img.save(\"./ROC_output/ROC_Lateral.tif\",dpi=(300,300))"
   ]
  }
 ],
 "metadata": {
  "kernelspec": {
   "display_name": "Python 3 (ipykernel)",
   "language": "python",
   "name": "python3"
  },
  "language_info": {
   "codemirror_mode": {
    "name": "ipython",
    "version": 3
   },
   "file_extension": ".py",
   "mimetype": "text/x-python",
   "name": "python",
   "nbconvert_exporter": "python",
   "pygments_lexer": "ipython3",
   "version": "3.8.11"
  }
 },
 "nbformat": 4,
 "nbformat_minor": 4
}
